{
 "cells": [
  {
   "cell_type": "code",
   "execution_count": 1,
   "id": "b9bdc859-796a-4a7f-8243-dd9df677e73c",
   "metadata": {},
   "outputs": [],
   "source": [
    "#Problem statement:\n",
    "#Implementing a recommendation system using K-arm bandit.\n",
    "#The use case considered is a movie recommendation system which can recommend a movie to a user based on what genre of movies he prefers to watch."
   ]
  },
  {
   "cell_type": "code",
   "execution_count": null,
   "id": "1c2f0374-c915-499b-aefd-8bb2c8e709fd",
   "metadata": {},
   "outputs": [],
   "source": [
    "import random\n",
    "\n",
    "# Define the genres\n",
    "genres = ['action', 'comedy', 'drama', 'sci-fi', 'horror']\n",
    "\n",
    "# Initialize reward estimates and counts\n",
    "reward_estimates = {genre: 0.0 for genre in genres}\n",
    "counts = {genre: 0 for genre in genres}\n",
    "\n",
    "def choose_genre(epsilon):\n",
    "    \"\"\"\n",
    "    Choose a genre based on epsilon-greedy strategy.\n",
    "    \n",
    "    Args:\n",
    "    epsilon (float): Exploration probability.\n",
    "    \n",
    "    Returns:\n",
    "    str: Chosen genre.\n",
    "    \"\"\"\n",
    "    if random.random() < epsilon:\n",
    "        # Explore: Choose a random genre\n",
    "        return random.choice(genres)\n",
    "    else:\n",
    "        # Exploit: Choose the genre with the highest estimated reward\n",
    "        return max(reward_estimates, key=reward_estimates.get)\n",
    "def update_reward(genre, reward):\n",
    "    \"\"\"\n",
    "    Update the reward estimate for a given genre.\n",
    "    \n",
    "    Args:\n",
    "    genre (str): The genre to update.\n",
    "    reward (int): The reward received (0 or 1).\n",
    "    \"\"\"\n",
    "    counts[genre] += 1\n",
    "    # Update the reward estimate using incremental average formula\n",
    "    reward_estimates[genre] += (reward - reward_estimates[genre]) / counts[genre]\n",
    "\n",
    "def simulate_recommendation_process(n_interactions, epsilon=0.4):\n",
    "    \"\"\"\n",
    "    Simulate a movie recommendation process using epsilon-greedy strategy.\n",
    "    \n",
    "    Args:\n",
    "    n_interactions (int): Number of recommendations to simulate.\n",
    "    epsilon (float): Exploration probability, default is 0.4.\n",
    "    \"\"\"\n",
    "    for _ in range(n_interactions):\n",
    "        genre = choose_genre(epsilon)\n",
    "        # Simulating a reward based on user engagement (assume binary reward for simplicity)\n",
    "        reward = random.choice([0, 1])  \n",
    "        update_reward(genre, reward)\n",
    "        print(f\"Recommended: {genre}, Reward: {reward}, Updated Estimates: {reward_estimates}\")\n",
    "\n",
    "# Example usage\n",
    "simulate_recommendation_process(20, epsilon=0.3)"
   ]
  }
 ],
 "metadata": {
  "kernelspec": {
   "display_name": "Python 3 (ipykernel)",
   "language": "python",
   "name": "python3"
  },
  "language_info": {
   "codemirror_mode": {
    "name": "ipython",
    "version": 3
   },
   "file_extension": ".py",
   "mimetype": "text/x-python",
   "name": "python",
   "nbconvert_exporter": "python",
   "pygments_lexer": "ipython3",
   "version": "3.12.4"
  }
 },
 "nbformat": 4,
 "nbformat_minor": 5
}
